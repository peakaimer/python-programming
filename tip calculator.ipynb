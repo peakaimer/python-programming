{
 "cells": [
  {
   "cell_type": "code",
   "execution_count": 11,
   "id": "143c056c-d114-4e85-8139-75031f30db40",
   "metadata": {},
   "outputs": [
    {
     "name": "stdout",
     "output_type": "stream",
     "text": [
      "Welcome to Tip calculator\n"
     ]
    },
    {
     "name": "stdin",
     "output_type": "stream",
     "text": [
      "Enter the total bill : $ 153.45\n",
      "Enter the percentage you want, 10, 12, 15 : 15\n",
      "The tip is between how many people : 5\n"
     ]
    },
    {
     "name": "stdout",
     "output_type": "stream",
     "text": [
      "For a tip of 15% on 153.45 between 5 people, each person pays $35.29\n"
     ]
    }
   ],
   "source": [
    "#Tip calculator\n",
    "print(\"Welcome to Tip calculator\")\n",
    "\n",
    "a = float(input(\"Enter the total bill : $\"))\n",
    "b = int(input(\"Enter the percentage you want, 10, 12, 15 :\"))\n",
    "c = int(input(\"The tip is between how many people :\"))\n",
    "\n",
    "percentage = (b/100)\n",
    "tip_percent = a * percentage\n",
    "tip = (tip_percent + a)/c\n",
    "tips = round(tip, 2)\n",
    "print(f\"For a tip of {b}% on {a} between {c} people, each person pays ${tips}\")\n"
   ]
  },
  {
   "cell_type": "code",
   "execution_count": null,
   "id": "c29a6a4c-b800-42bb-a257-7d2b06633f80",
   "metadata": {},
   "outputs": [],
   "source": []
  }
 ],
 "metadata": {
  "kernelspec": {
   "display_name": "Python 3 (ipykernel)",
   "language": "python",
   "name": "python3"
  },
  "language_info": {
   "codemirror_mode": {
    "name": "ipython",
    "version": 3
   },
   "file_extension": ".py",
   "mimetype": "text/x-python",
   "name": "python",
   "nbconvert_exporter": "python",
   "pygments_lexer": "ipython3",
   "version": "3.11.7"
  }
 },
 "nbformat": 4,
 "nbformat_minor": 5
}
