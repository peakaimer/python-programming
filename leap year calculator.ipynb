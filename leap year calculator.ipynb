{
 "cells": [
  {
   "cell_type": "code",
   "execution_count": 8,
   "id": "d364cd78-34d4-4055-a282-53badae3ff23",
   "metadata": {},
   "outputs": [
    {
     "name": "stdout",
     "output_type": "stream",
     "text": [
      "This will tell you if a particular year is a leap year\n"
     ]
    },
    {
     "name": "stdin",
     "output_type": "stream",
     "text": [
      "Enter the year you want to check for:  2019\n"
     ]
    },
    {
     "name": "stdout",
     "output_type": "stream",
     "text": [
      "2019 is not a leap year\n"
     ]
    }
   ],
   "source": [
    "#Leap year calculator\n",
    "print(\"This will tell you if a particular year is a leap year\")\n",
    "year = int(input(\"Enter the year you want to check for: \"))\n",
    "\n",
    "if year % 4 == 0:\n",
    "    print(f\"{year} is a leap year\")\n",
    "elif year % 100:\n",
    "    print(f\"{year} is not a leap year\")\n",
    "elif year % 400:\n",
    "    print(f\"{year} is a leap year\")\n",
    "else:\n",
    "    print(f\"{year} is not a leap year\")"
   ]
  },
  {
   "cell_type": "code",
   "execution_count": 9,
   "id": "45c0cff2-d180-4f85-9721-05c54e0eaf4b",
   "metadata": {},
   "outputs": [
    {
     "name": "stdout",
     "output_type": "stream",
     "text": [
      "This will tell you if a particular year is a leap year\n"
     ]
    },
    {
     "name": "stdin",
     "output_type": "stream",
     "text": [
      "Enter the year you want to check for:  2020\n"
     ]
    },
    {
     "name": "stdout",
     "output_type": "stream",
     "text": [
      "2020 is a leap year\n"
     ]
    }
   ],
   "source": [
    "#Leap year calculator\n",
    "print(\"This will tell you if a particular year is a leap year\")\n",
    "year = int(input(\"Enter the year you want to check for: \"))\n",
    "\n",
    "if year % 4 == 0:\n",
    "    print(f\"{year} is a leap year\")\n",
    "    if year % 100 == 0:\n",
    "        print(f\"{year} is not a leap year\")\n",
    "    elif year % 400 == 0:\n",
    "        print(f\"{year} is a leap year\")\n",
    "else:\n",
    "    print(f\"{year} is not a leap year\")"
   ]
  },
  {
   "cell_type": "code",
   "execution_count": 11,
   "id": "af483698-5682-4724-b159-70da4358d062",
   "metadata": {},
   "outputs": [
    {
     "name": "stdout",
     "output_type": "stream",
     "text": [
      "This will tell you if a particular year is a leap year\n"
     ]
    },
    {
     "name": "stdin",
     "output_type": "stream",
     "text": [
      "Enter the year you want to check for:  1987\n"
     ]
    },
    {
     "name": "stdout",
     "output_type": "stream",
     "text": [
      "Not a leap year\n"
     ]
    }
   ],
   "source": [
    "#Leap year calculator\n",
    "print(\"This will tell you if a particular year is a leap year\")\n",
    "year = int(input(\"Enter the year you want to check for: \"))\n",
    "\n",
    "if year % 4 == 0:\n",
    "    if year % 100 == 0:\n",
    "        if year % 400 == 0:\n",
    "            print(\"It is a leap year\")\n",
    "    else:\n",
    "        print(\"It is a leap year\")\n",
    "\n",
    "else:\n",
    "    print(\"Not a leap year\")"
   ]
  },
  {
   "cell_type": "code",
   "execution_count": null,
   "id": "5cf2cafc-8962-493d-8d0c-9209bc9ec7d3",
   "metadata": {},
   "outputs": [],
   "source": []
  }
 ],
 "metadata": {
  "kernelspec": {
   "display_name": "Python 3 (ipykernel)",
   "language": "python",
   "name": "python3"
  },
  "language_info": {
   "codemirror_mode": {
    "name": "ipython",
    "version": 3
   },
   "file_extension": ".py",
   "mimetype": "text/x-python",
   "name": "python",
   "nbconvert_exporter": "python",
   "pygments_lexer": "ipython3",
   "version": "3.11.7"
  }
 },
 "nbformat": 4,
 "nbformat_minor": 5
}
