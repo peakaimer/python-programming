{
 "cells": [
  {
   "cell_type": "code",
   "execution_count": 29,
   "metadata": {},
   "outputs": [
    {
     "name": "stdout",
     "output_type": "stream",
     "text": [
      "pine\n",
      "['_', '_', '_', '_']\n"
     ]
    },
    {
     "ename": "IndexError",
     "evalue": "tuple index out of range",
     "output_type": "error",
     "traceback": [
      "\u001b[1;31m---------------------------------------------------------------------------\u001b[0m",
      "\u001b[1;31mIndexError\u001b[0m                                Traceback (most recent call last)",
      "Cell \u001b[1;32mIn[29], line 16\u001b[0m\n\u001b[0;32m     12\u001b[0m guess \u001b[38;5;241m=\u001b[39m \u001b[38;5;28minput\u001b[39m(\u001b[38;5;124m\"\u001b[39m\u001b[38;5;124mGuess your number: \u001b[39m\u001b[38;5;124m\"\u001b[39m)\u001b[38;5;241m.\u001b[39mlower()\n\u001b[0;32m     15\u001b[0m \u001b[38;5;28;01mfor\u001b[39;00m position \u001b[38;5;129;01min\u001b[39;00m \u001b[38;5;28mrange\u001b[39m(word_lenght):\n\u001b[1;32m---> 16\u001b[0m     letter \u001b[38;5;241m==\u001b[39m words[position]\n\u001b[0;32m     17\u001b[0m     \u001b[38;5;28;01mif\u001b[39;00m letter \u001b[38;5;241m==\u001b[39m guess:\n\u001b[0;32m     18\u001b[0m         display[position] \u001b[38;5;241m=\u001b[39m letter \n",
      "\u001b[1;31mIndexError\u001b[0m: tuple index out of range"
     ]
    }
   ],
   "source": [
    "import random\n",
    "words = (\"apple\", \"pine\", \"black\")\n",
    "\n",
    "random_word = random.choice(words)\n",
    "print(random_word)\n",
    "display = []\n",
    "word_lenght = len(random_word)\n",
    "for _ in range(len(random_word)):\n",
    "    display += \"_\"\n",
    "print(display)\n",
    "\n",
    "guess = input(\"Guess your number: \").lower()\n",
    "\n",
    "\n",
    "for position in range(word_lenght):\n",
    "    letter == words[position]\n",
    "    if letter == guess:\n",
    "        display[position] = letter \n",
    "print(\"display\")"
   ]
  }
 ],
 "metadata": {
  "kernelspec": {
   "display_name": "base",
   "language": "python",
   "name": "python3"
  },
  "language_info": {
   "codemirror_mode": {
    "name": "ipython",
    "version": 3
   },
   "file_extension": ".py",
   "mimetype": "text/x-python",
   "name": "python",
   "nbconvert_exporter": "python",
   "pygments_lexer": "ipython3",
   "version": "3.11.7"
  }
 },
 "nbformat": 4,
 "nbformat_minor": 2
}
