{
 "cells": [
  {
   "cell_type": "code",
   "execution_count": null,
   "metadata": {},
   "outputs": [
    {
     "name": "stdout",
     "output_type": "stream",
     "text": [
      "password generator\n",
      "mOrf9601@$^&@$\n"
     ]
    }
   ],
   "source": [
    "#simple password generator\n",
    "import random\n",
    "letters = [\"a\", \"b\", \"c\", \"d\", \"e\", \"f\", \"g\", \"h\", \"i\", \"j\", \"k\", \"l\", \"m\", \"n\", \"o\", \"p\", \"q\", \"r\", \"s\", \"t\", \"u\", \"v\", \"w\", \"x\", \"y\", \"z\", \"A\", \"B\", \"C\", \"D\", \"E\", \"F\", \"G\", \"H\", \"I\", \"J\", \"K\", \"L\", \"M\", \"N\", \"O\", \"P\", \"Q\", \"R\", \"S\", \"T\", \"U\", \"V\", \"W\", \"X\", \"Y\", \"Z\"]\n",
    "numbers = [\"0\", \"1\", \"2\", \"3\", \"4\", \"5\", \"6\", \"7\", \"8\", \"9\"]\n",
    "symbols = [\"!\", \"@\", \"#\", \"$\", \"%\", \"^\", \"&\", \"*\", \"+\"]\n",
    "\n",
    "print(\"password generator\")\n",
    "nr_letters = int(input(\"How many letters do you want?: \\n\"))\n",
    "nr_numbers = int(input(\"How many numbers do you want?: \\n\"))\n",
    "nr_symbols = int(input(\"How many symbols do you want?: \\n\"))\n",
    "\n",
    "password = \"\"\n",
    "for char in range(1, nr_letters + 1):\n",
    "    password += random.choice(letters)\n",
    "    \n",
    "   # print(password)\n",
    "    \n",
    "for num in range(1, nr_numbers + 1):\n",
    "    password += random.choice(numbers)\n",
    "\n",
    "for sym in range(1, nr_symbols + 1):\n",
    "    password += random.choice(symbols)\n",
    "print(password)"
   ]
  },
  {
   "cell_type": "code",
   "execution_count": 15,
   "metadata": {},
   "outputs": [
    {
     "name": "stdout",
     "output_type": "stream",
     "text": [
      "password generator\n",
      "1**518$Iol+88z5o2\n"
     ]
    }
   ],
   "source": [
    "#Hard level\n",
    "import random\n",
    "letters = [\"a\", \"b\", \"c\", \"d\", \"e\", \"f\", \"g\", \"h\", \"i\", \"j\", \"k\", \"l\", \"m\", \"n\", \"o\", \"p\", \"q\", \"r\", \"s\", \"t\", \"u\", \"v\", \"w\", \"x\", \"y\", \"z\", \"A\", \"B\", \"C\", \"D\", \"E\", \"F\", \"G\", \"H\", \"I\", \"J\", \"K\", \"L\", \"M\", \"N\", \"O\", \"P\", \"Q\", \"R\", \"S\", \"T\", \"U\", \"V\", \"W\", \"X\", \"Y\", \"Z\"]\n",
    "numbers = [\"0\", \"1\", \"2\", \"3\", \"4\", \"5\", \"6\", \"7\", \"8\", \"9\"]\n",
    "symbols = [\"!\", \"@\", \"#\", \"$\", \"%\", \"^\", \"&\", \"*\", \"+\"]\n",
    "\n",
    "print(\"password generator\")\n",
    "nr_letters = int(input(\"How many letters do you want?: \\n\"))\n",
    "nr_numbers = int(input(\"How many numbers do you want?: \\n\"))\n",
    "nr_symbols = int(input(\"How many symbols do you want?: \\n\"))\n",
    "\n",
    "password_list = []\n",
    "for char in range(1, nr_letters + 1):\n",
    "    password_list.append(random.choice(letters))\n",
    "   # print(password)\n",
    "    \n",
    "for num in range(1, nr_numbers + 1):\n",
    "    password_list += random.choice(numbers)\n",
    "\n",
    "for sym in range(1, nr_symbols + 1):\n",
    "    password_list += random.choice(symbols)\n",
    "    random.shuffle(password_list)\n",
    "#print(password_list)\n",
    "\n",
    "password = \"\"\n",
    "for char in password_list:\n",
    "    password += char\n",
    "print(password)"
   ]
  }
 ],
 "metadata": {
  "kernelspec": {
   "display_name": "base",
   "language": "python",
   "name": "python3"
  },
  "language_info": {
   "codemirror_mode": {
    "name": "ipython",
    "version": 3
   },
   "file_extension": ".py",
   "mimetype": "text/x-python",
   "name": "python",
   "nbconvert_exporter": "python",
   "pygments_lexer": "ipython3",
   "version": "3.11.7"
  }
 },
 "nbformat": 4,
 "nbformat_minor": 2
}
