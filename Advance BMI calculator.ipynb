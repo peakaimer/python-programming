{
 "cells": [
  {
   "cell_type": "code",
   "execution_count": 7,
   "id": "e8434155-6ae7-483f-b04e-28c6f2618ec2",
   "metadata": {},
   "outputs": [
    {
     "name": "stdout",
     "output_type": "stream",
     "text": [
      "BMI calculator\n"
     ]
    },
    {
     "name": "stdin",
     "output_type": "stream",
     "text": [
      "Enter your weight in kg : 12134\n",
      "Enter your height in meters : 12\n"
     ]
    },
    {
     "name": "stdout",
     "output_type": "stream",
     "text": [
      "84\n",
      "Your BMI is 84, you are clinically obesed\n"
     ]
    }
   ],
   "source": [
    "#BMI calculator\n",
    "print(\"BMI calculator\")\n",
    "weight = int(input(\"Enter your weight in kg :\"))\n",
    "height = int(input(\"Enter your height in meters :\"))\n",
    "\n",
    "bmi = weight/height**2\n",
    "#print(f\"Your BMI is {bmi}\")\n",
    "print(round(bmi))\n",
    "\n",
    "if bmi < 18.5:\n",
    "    print(f\"Your BMI is {round(bmi)}, you are slightly underweight\")\n",
    "\n",
    "elif bmi < 25:\n",
    "    print(f\"Your BMI is {round(bmi)}, you are at a normal weight\")\n",
    "\n",
    "elif bmi < 30:\n",
    "    print(f\"Your BMI is {round(bmi)}, you are obesed\")\n",
    "\n",
    "else:\n",
    "    print(f\"Your BMI is {round(bmi)}, you are clinically obesed\")\n",
    "\n"
   ]
  },
  {
   "cell_type": "code",
   "execution_count": null,
   "id": "aa5687fa-3e73-4691-8c45-426f923f7227",
   "metadata": {},
   "outputs": [],
   "source": []
  }
 ],
 "metadata": {
  "kernelspec": {
   "display_name": "Python 3 (ipykernel)",
   "language": "python",
   "name": "python3"
  },
  "language_info": {
   "codemirror_mode": {
    "name": "ipython",
    "version": 3
   },
   "file_extension": ".py",
   "mimetype": "text/x-python",
   "name": "python",
   "nbconvert_exporter": "python",
   "pygments_lexer": "ipython3",
   "version": "3.11.7"
  }
 },
 "nbformat": 4,
 "nbformat_minor": 5
}
