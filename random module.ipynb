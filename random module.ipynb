{
 "cells": [
  {
   "cell_type": "code",
   "execution_count": 14,
   "id": "c1cf5723-b808-402f-bc11-a31e83b36282",
   "metadata": {},
   "outputs": [
    {
     "name": "stdout",
     "output_type": "stream",
     "text": [
      "2\n",
      "0.2979680707154252\n",
      "1.4898403535771259\n"
     ]
    }
   ],
   "source": [
    "import random\n",
    "random_int = random.randint(1, 20)\n",
    "print(random_int)\n",
    "\n",
    "random_float = random.random()\n",
    "print(random_float)\n",
    "more_random_float = random_float * 5\n",
    "print(more_random_float)"
   ]
  },
  {
   "cell_type": "code",
   "execution_count": 17,
   "id": "318af848-cd6d-4cb6-8836-692e40927ea8",
   "metadata": {},
   "outputs": [
    {
     "name": "stdout",
     "output_type": "stream",
     "text": [
      "Your love score is 47\n"
     ]
    }
   ],
   "source": [
    "love_score = random.randint(1, 100)\n",
    "print(f\"Your love score is {love_score}\")"
   ]
  },
  {
   "cell_type": "code",
   "execution_count": null,
   "id": "2efc65e3-b5f9-4779-93b9-2fab3b9e1e87",
   "metadata": {},
   "outputs": [],
   "source": []
  },
  {
   "cell_type": "code",
   "execution_count": null,
   "id": "fa3fa386-b06e-4891-b8a7-5aeb83b9f087",
   "metadata": {},
   "outputs": [],
   "source": []
  }
 ],
 "metadata": {
  "kernelspec": {
   "display_name": "Python 3 (ipykernel)",
   "language": "python",
   "name": "python3"
  },
  "language_info": {
   "codemirror_mode": {
    "name": "ipython",
    "version": 3
   },
   "file_extension": ".py",
   "mimetype": "text/x-python",
   "name": "python",
   "nbconvert_exporter": "python",
   "pygments_lexer": "ipython3",
   "version": "3.11.7"
  }
 },
 "nbformat": 4,
 "nbformat_minor": 5
}
