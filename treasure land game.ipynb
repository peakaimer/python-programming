{
 "cells": [
  {
   "cell_type": "code",
   "execution_count": 1,
   "id": "abe630ab-3c56-412b-bc94-79be7c6374f6",
   "metadata": {},
   "outputs": [
    {
     "name": "stdout",
     "output_type": "stream",
     "text": [
      "Welcome to treasure Island \n",
      "Your job is to find treasure \n",
      "GAME OVER!!!\n"
     ]
    }
   ],
   "source": [
    "# Treasure Island\n",
    "\n",
    "print('Welcome to treasure Island \\nYour job is to find treasure ')\n",
    "\n",
    "direction = input('Which direction would you like to go? left or right ')\n",
    "\n",
    "lower_direction = direction.lower()\n",
    "\n",
    "if lower_direction == 'left':\n",
    "    decision = input('Will you like to swim or wait? ')\n",
    "    lower_decision = decision.lower()\n",
    "    if lower_decision == 'wait':\n",
    "         door = input('Which door are you taking? blue, yellow or red ')\n",
    "         lower_door = door.lower()\n",
    "         if lower_door == 'yellow':\n",
    "           \n",
    "            \n",
    "            print('You Win!')\n",
    "            \n",
    "         else:\n",
    "             print('GAME OVER!!!')\n",
    "    else:\n",
    "        print('You sank in water')\n",
    "    \n",
    "else:\n",
    "    print('You went the wrong way, GAME OVER!')"
   ]
  }
 ],
 "metadata": {
  "kernelspec": {
   "display_name": "Python 3",
   "language": "python",
   "name": "python3"
  },
  "language_info": {
   "codemirror_mode": {
    "name": "ipython",
    "version": 3
   },
   "file_extension": ".py",
   "mimetype": "text/x-python",
   "name": "python",
   "nbconvert_exporter": "python",
   "pygments_lexer": "ipython3",
   "version": "3.11.5"
  }
 },
 "nbformat": 4,
 "nbformat_minor": 5
}
