{
 "cells": [
  {
   "cell_type": "code",
   "execution_count": 1,
   "id": "abe630ab-3c56-412b-bc94-79be7c6374f6",
   "metadata": {},
   "outputs": [
    {
     "name": "stdout",
     "output_type": "stream",
     "text": [
      "Welcome to treasure Island \n",
      "Your job is to find treasure \n"
     ]
    },
    {
     "name": "stdin",
     "output_type": "stream",
     "text": [
      "Which direction would you like to go? left or right  right\n"
     ]
    },
    {
     "name": "stdout",
     "output_type": "stream",
     "text": [
      "You went the wrong way, GAME OVER!\n"
     ]
    }
   ],
   "source": [
    "# Treasure Island\n",
    "\n",
    "print('Welcome to treasure Island \\nYour job is to find treasure ')\n",
    "\n",
    "direction = input('Which direction would you like to go? left or right ')\n",
    "\n",
    "lower_direction = direction.lower()\n",
    "\n",
    "if lower_direction == 'left':\n",
    "    decision = input('Will you like to swim or wait? ')\n",
    "    lower_decision = decision.lower()\n",
    "    if lower_decision == 'wait':\n",
    "         door = input('Which door are you taking? blue, yellow or red ')\n",
    "         lower_door = door.lower()\n",
    "         if lower_door == 'yellow':\n",
    "           \n",
    "            \n",
    "            print('You Win!')\n",
    "            \n",
    "         else:\n",
    "             print('GAME OVER!!!')\n",
    "    else:\n",
    "        print('You sank in water')\n",
    "    \n",
    "else:\n",
    "    print('You went the wrong way, GAME OVER!')"
   ]
  },
  {
   "cell_type": "code",
   "execution_count": 2,
   "id": "fe05b4eb-06e7-44b7-8172-09a2276f2fd5",
   "metadata": {},
   "outputs": [
    {
     "data": {
      "text/plain": [
       "'C:\\\\Users\\\\Emmanuel\\\\100 days of coding'"
      ]
     },
     "execution_count": 2,
     "metadata": {},
     "output_type": "execute_result"
    }
   ],
   "source": [
    "pwd"
   ]
  },
  {
   "cell_type": "code",
   "execution_count": 3,
   "id": "ecfde3cc-e67c-422d-aeb8-cb1da8f77a64",
   "metadata": {},
   "outputs": [
    {
     "ename": "SyntaxError",
     "evalue": "invalid syntax (2830201818.py, line 1)",
     "output_type": "error",
     "traceback": [
      "\u001b[1;36m  Cell \u001b[1;32mIn[3], line 1\u001b[1;36m\u001b[0m\n\u001b[1;33m    git init\u001b[0m\n\u001b[1;37m        ^\u001b[0m\n\u001b[1;31mSyntaxError\u001b[0m\u001b[1;31m:\u001b[0m invalid syntax\n"
     ]
    }
   ],
   "source": []
  },
  {
   "cell_type": "code",
   "execution_count": null,
   "id": "705ed393-dbb5-4e15-8861-be7874b622cd",
   "metadata": {},
   "outputs": [],
   "source": []
  }
 ],
 "metadata": {
  "kernelspec": {
   "display_name": "Python 3 (ipykernel)",
   "language": "python",
   "name": "python3"
  },
  "language_info": {
   "codemirror_mode": {
    "name": "ipython",
    "version": 3
   },
   "file_extension": ".py",
   "mimetype": "text/x-python",
   "name": "python",
   "nbconvert_exporter": "python",
   "pygments_lexer": "ipython3",
   "version": "3.11.7"
  }
 },
 "nbformat": 4,
 "nbformat_minor": 5
}
