{
 "cells": [
  {
   "cell_type": "code",
   "execution_count": 14,
   "id": "11564a93-3b71-4989-8a3e-f2169f877d50",
   "metadata": {},
   "outputs": [
    {
     "name": "stdout",
     "output_type": "stream",
     "text": [
      "Enter the students height:  22, 34, 56, 45\n"
     ]
    },
    {
     "ename": "ValueError",
     "evalue": "invalid literal for int() with base 10: '22, 34, 56, 45'",
     "output_type": "error",
     "traceback": [
      "\u001b[1;31m---------------------------------------------------------------------------\u001b[0m",
      "\u001b[1;31mValueError\u001b[0m                                Traceback (most recent call last)",
      "Cell \u001b[1;32mIn[14], line 4\u001b[0m\n\u001b[0;32m      1\u001b[0m \u001b[38;5;66;03m#Average height calculator\u001b[39;00m\n\u001b[0;32m      3\u001b[0m student_height \u001b[38;5;241m=\u001b[39m \u001b[38;5;28minput\u001b[39m(\u001b[38;5;124m\"\u001b[39m\u001b[38;5;124mEnter the students height: \u001b[39m\u001b[38;5;124m\"\u001b[39m)\n\u001b[1;32m----> 4\u001b[0m student_height \u001b[38;5;241m=\u001b[39m \u001b[38;5;28mint\u001b[39m(student_height)\n\u001b[0;32m      5\u001b[0m \u001b[38;5;28;01mfor\u001b[39;00m n \u001b[38;5;129;01min\u001b[39;00m \u001b[38;5;28mrange\u001b[39m(\u001b[38;5;241m0\u001b[39m, \u001b[38;5;28mlen\u001b[39m(student_height)):\n\u001b[0;32m      6\u001b[0m     student_height[n] \u001b[38;5;241m=\u001b[39m \u001b[38;5;28mint\u001b[39m(student_height[n])\n",
      "\u001b[1;31mValueError\u001b[0m: invalid literal for int() with base 10: '22, 34, 56, 45'"
     ]
    }
   ],
   "source": [
    "#Average height calculator\n",
    "\n",
    "student_height = input(\"Enter the students height: \").split()\n",
    "for n in range(0, len(student_height)):\n",
    "    student_height[n] = int(student_height[n])\n",
    "print(student_height)\n",
    "\n",
    "total_height = 0\n",
    "for height in total_height:\n",
    "    total_height += height\n",
    "print(total_height)\n",
    "\n",
    "number_of_student = 0\n",
    "for number in number_of_student:\n",
    "    number_of_student += 1\n",
    "print(number_of_student)\n",
    "\n",
    "print(round(student_height/number_of_student))"
   ]
  },
  {
   "cell_type": "code",
   "execution_count": 18,
   "id": "1679477f-594a-4131-81f9-813c4f2771ad",
   "metadata": {},
   "outputs": [
    {
     "name": "stdout",
     "output_type": "stream",
     "text": [
      "Input the students score seperating them with a comma:  11 34 55 67\n"
     ]
    },
    {
     "ename": "ValueError",
     "evalue": "invalid literal for int() with base 10: ' '",
     "output_type": "error",
     "traceback": [
      "\u001b[1;31m---------------------------------------------------------------------------\u001b[0m",
      "\u001b[1;31mValueError\u001b[0m                                Traceback (most recent call last)",
      "Cell \u001b[1;32mIn[18], line 4\u001b[0m\n\u001b[0;32m      2\u001b[0m student_score \u001b[38;5;241m=\u001b[39m \u001b[38;5;28minput\u001b[39m(\u001b[38;5;124m\"\u001b[39m\u001b[38;5;124mInput the students score seperating them with a comma: \u001b[39m\u001b[38;5;124m\"\u001b[39m)\n\u001b[0;32m      3\u001b[0m \u001b[38;5;28;01mfor\u001b[39;00m student \u001b[38;5;129;01min\u001b[39;00m \u001b[38;5;28mrange\u001b[39m(\u001b[38;5;241m0\u001b[39m, \u001b[38;5;28mlen\u001b[39m(student_score)):\n\u001b[1;32m----> 4\u001b[0m     student_score[student] \u001b[38;5;241m==\u001b[39m \u001b[38;5;28mint\u001b[39m(student_score[student])\n\u001b[0;32m      6\u001b[0m \u001b[38;5;28mprint\u001b[39m(student_score)\n",
      "\u001b[1;31mValueError\u001b[0m: invalid literal for int() with base 10: ' '"
     ]
    }
   ],
   "source": [
    "#Highest score\n",
    "student_score = input(\"Input the students score seperating them with a comma: \")\n",
    "for student in range(0, len(student_score)):\n",
    "    student_score[student] == int(student_score[student])\n",
    "\n",
    "print(student_score)"
   ]
  }
 ],
 "metadata": {
  "kernelspec": {
   "display_name": "base",
   "language": "python",
   "name": "python3"
  },
  "language_info": {
   "codemirror_mode": {
    "name": "ipython",
    "version": 3
   },
   "file_extension": ".py",
   "mimetype": "text/x-python",
   "name": "python",
   "nbconvert_exporter": "python",
   "pygments_lexer": "ipython3",
   "version": "3.11.7"
  }
 },
 "nbformat": 4,
 "nbformat_minor": 5
}
