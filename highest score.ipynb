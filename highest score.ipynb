{
 "cells": [
  {
   "cell_type": "code",
   "execution_count": 10,
   "metadata": {},
   "outputs": [
    {
     "ename": "ValueError",
     "evalue": "invalid literal for int() with base 10: '11,34,56,66,78,98'",
     "output_type": "error",
     "traceback": [
      "\u001b[1;31m---------------------------------------------------------------------------\u001b[0m",
      "\u001b[1;31mValueError\u001b[0m                                Traceback (most recent call last)",
      "Cell \u001b[1;32mIn[10], line 4\u001b[0m\n\u001b[0;32m      2\u001b[0m student_score \u001b[38;5;241m=\u001b[39m \u001b[38;5;28minput\u001b[39m(\u001b[38;5;124m\"\u001b[39m\u001b[38;5;124mEnter the list of student scores seperating them with a comma: \u001b[39m\u001b[38;5;124m\"\u001b[39m)\u001b[38;5;241m.\u001b[39msplit()\n\u001b[0;32m      3\u001b[0m \u001b[38;5;28;01mfor\u001b[39;00m n \u001b[38;5;129;01min\u001b[39;00m \u001b[38;5;28mrange\u001b[39m(\u001b[38;5;241m0\u001b[39m, \u001b[38;5;28mlen\u001b[39m(student_score)):\n\u001b[1;32m----> 4\u001b[0m     student_score[n] \u001b[38;5;241m=\u001b[39m \u001b[38;5;28mint\u001b[39m(student_score[n])\n\u001b[0;32m      5\u001b[0m \u001b[38;5;28mprint\u001b[39m(student_score)\n\u001b[0;32m      7\u001b[0m highest_score \u001b[38;5;241m=\u001b[39m \u001b[38;5;241m0\u001b[39m\n",
      "\u001b[1;31mValueError\u001b[0m: invalid literal for int() with base 10: '11,34,56,66,78,98'"
     ]
    }
   ],
   "source": [
    "#Highest score\n",
    "student_score = input(\"Enter the list of student scores seperating them with a comma: \").split()\n",
    "for n in range(0, len(student_score)):\n",
    "    student_score[n] = int(student_score[n])\n",
    "print(student_score)\n",
    "\n",
    "highest_score = 0\n",
    "for score in highest_score:\n",
    "    if score > highest_score:\n",
    "        highest_score = score\n",
    "print(f\"Highest score is {highest_score}\")"
   ]
  }
 ],
 "metadata": {
  "kernelspec": {
   "display_name": "base",
   "language": "python",
   "name": "python3"
  },
  "language_info": {
   "codemirror_mode": {
    "name": "ipython",
    "version": 3
   },
   "file_extension": ".py",
   "mimetype": "text/x-python",
   "name": "python",
   "nbconvert_exporter": "python",
   "pygments_lexer": "ipython3",
   "version": "3.11.7"
  }
 },
 "nbformat": 4,
 "nbformat_minor": 2
}
