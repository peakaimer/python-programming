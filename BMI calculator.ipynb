{
 "cells": [
  {
   "cell_type": "code",
   "execution_count": 13,
   "id": "2bb08748-416a-4fa8-8030-bb7aceeb5ae7",
   "metadata": {},
   "outputs": [
    {
     "name": "stdout",
     "output_type": "stream",
     "text": [
      "BMI calculator\n"
     ]
    },
    {
     "name": "stdin",
     "output_type": "stream",
     "text": [
      "Enter your weight in kg : 43\n",
      "Enter your height in meters : 23\n"
     ]
    },
    {
     "name": "stdout",
     "output_type": "stream",
     "text": [
      "0.08128544423440454 kg/m2\n",
      "0 kg/m2\n",
      "0 kg/m2\n",
      "Your BMI is (0.08128544423440454, 2)\n"
     ]
    }
   ],
   "source": [
    "#BMI calculator\n",
    "print(\"BMI calculator\")\n",
    "weight = int(input(\"Enter your weight in kg :\"))\n",
    "height = int(input(\"Enter your height in meters :\"))\n",
    "\n",
    "bmi = weight/height**2\n",
    "print(bmi,\"kg/m2\")\n",
    "print(int(bmi),\"kg/m2\")# To make it a whole number\n",
    "print(round(bmi),\"kg/m2\") #To round it up to the nearest significant value\n",
    "print(f\"Your BMI is {bmi}\")"
   ]
  },
  {
   "cell_type": "code",
   "execution_count": null,
   "id": "88137432-e817-40dc-bcc4-4ea6ad2466f0",
   "metadata": {},
   "outputs": [],
   "source": []
  }
 ],
 "metadata": {
  "kernelspec": {
   "display_name": "Python 3 (ipykernel)",
   "language": "python",
   "name": "python3"
  },
  "language_info": {
   "codemirror_mode": {
    "name": "ipython",
    "version": 3
   },
   "file_extension": ".py",
   "mimetype": "text/x-python",
   "name": "python",
   "nbconvert_exporter": "python",
   "pygments_lexer": "ipython3",
   "version": "3.11.7"
  }
 },
 "nbformat": 4,
 "nbformat_minor": 5
}
