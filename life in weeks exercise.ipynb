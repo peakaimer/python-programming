{
 "cells": [
  {
   "cell_type": "code",
   "execution_count": 11,
   "id": "d3ff77e1-9271-4bf7-896c-f1d3db3a9e7d",
   "metadata": {},
   "outputs": [
    {
     "name": "stdin",
     "output_type": "stream",
     "text": [
      "enter your age : 67\n"
     ]
    },
    {
     "name": "stdout",
     "output_type": "stream",
     "text": [
      "You have 8395.0 days, 1196.0 weeks, 276.0 months left to live\n"
     ]
    }
   ],
   "source": [
    "age = (input(\"enter your age :\"))\n",
    "months = 12 * age_left\n",
    "weeks = 52 * age_left\n",
    "days = 365 * age_left\n",
    "age_left = 90 - float(age)\n",
    "print(f\"You have {days} days, {weeks} weeks, {months} months left to live\")"
   ]
  },
  {
   "cell_type": "code",
   "execution_count": null,
   "id": "507ae9f9-4238-4496-be1b-8c61f00b173e",
   "metadata": {},
   "outputs": [],
   "source": []
  }
 ],
 "metadata": {
  "kernelspec": {
   "display_name": "Python 3 (ipykernel)",
   "language": "python",
   "name": "python3"
  },
  "language_info": {
   "codemirror_mode": {
    "name": "ipython",
    "version": 3
   },
   "file_extension": ".py",
   "mimetype": "text/x-python",
   "name": "python",
   "nbconvert_exporter": "python",
   "pygments_lexer": "ipython3",
   "version": "3.11.7"
  }
 },
 "nbformat": 4,
 "nbformat_minor": 5
}
