{
 "cells": [
  {
   "cell_type": "code",
   "execution_count": null,
   "id": "9da4e4b2-a7fc-4c12-a336-6501e6e5135b",
   "metadata": {},
   "outputs": [
    {
     "ename": "",
     "evalue": "",
     "output_type": "error",
     "traceback": [
      "\u001b[1;31mFailed to start the Kernel. \n",
      "\u001b[1;31mUnable to start Kernel 'base (Python 3.11.7)' due to a timeout waiting for the ports to get used. \n",
      "\u001b[1;31mView Jupyter <a href='command:jupyter.viewOutput'>log</a> for further details."
     ]
    }
   ],
   "source": [
    "import random\n",
    "test_seed = int(input(\"Enter a seed number: \"))\n",
    "random_seed = (test_seed)\n",
    "\n",
    "names = input(\"Enter the names of the people: \")\n",
    "names_split = names.split(\",\")\n",
    "\n",
    "print(names_split)\n",
    "#random_names = random.random()\n",
    "#print(random_names)\n",
    "name_length = len(names)\n",
    "random_number = random.randint(0, name_length,-1)\n",
    "random_name = names_split[random_number]\n",
    "print(random_name)"
   ]
  },
  {
   "cell_type": "code",
   "execution_count": null,
   "id": "653c9c70",
   "metadata": {},
   "outputs": [],
   "source": []
  },
  {
   "cell_type": "code",
   "execution_count": null,
   "id": "4bf733e1-c1f5-4ba1-bbf1-c67e9f8c5318",
   "metadata": {},
   "outputs": [],
   "source": []
  }
 ],
 "metadata": {
  "kernelspec": {
   "display_name": "base",
   "language": "python",
   "name": "python3"
  },
  "language_info": {
   "codemirror_mode": {
    "name": "ipython",
    "version": 3
   },
   "file_extension": ".py",
   "mimetype": "text/x-python",
   "name": "python",
   "nbconvert_exporter": "python",
   "pygments_lexer": "ipython3",
   "version": "3.11.7"
  }
 },
 "nbformat": 4,
 "nbformat_minor": 5
}
