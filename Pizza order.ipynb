{
 "cells": [
  {
   "cell_type": "code",
   "execution_count": 1,
   "id": "7024e600-97cb-4ec1-b506-53281de3be7b",
   "metadata": {},
   "outputs": [
    {
     "name": "stdout",
     "output_type": "stream",
     "text": [
      "Welcome to Python Pizza order\n",
      "S for small\n",
      "M for medium\n",
      "L for large\n",
      "Y for Yes\n",
      "N for No\n"
     ]
    },
    {
     "name": "stdin",
     "output_type": "stream",
     "text": [
      "Enter the size of pizza that you want: S, M, L:  s\n",
      "Do you wish to add pepperoni: Y, N:  y\n",
      "Do you want extra cheese: Y, N:  y\n"
     ]
    },
    {
     "name": "stdout",
     "output_type": "stream",
     "text": [
      "You are to pay $25 \n"
     ]
    }
   ],
   "source": [
    "#Pizza order\n",
    "print(\"Welcome to Python Pizza order\")\n",
    "print(\"S for small\")\n",
    "print(\"M for medium\")\n",
    "print(\"L for large\")\n",
    "print(\"Y for Yes\")\n",
    "print(\"N for No\")\n",
    "\n",
    "S = 15\n",
    "M = 20\n",
    "L = 25\n",
    "bill = 0\n",
    "size = input(\"Enter the size of pizza that you want: S, M, L: \")\n",
    "add_pepperoni = input(\"Do you wish to add pepperoni: Y, N: \")\n",
    "extra_cheese = input(\"Do you want extra cheese: Y, N: \")\n",
    "\n",
    "if size == \"S\":\n",
    "    bill += 15\n",
    "    \n",
    "    if add_pepperoni == \"Y\":\n",
    "        bill += 2\n",
    "        if extra_cheese == \"Y\":\n",
    "            bill += 1\n",
    "            print(f\"You are to pay {bill}\")\n",
    "        else:\n",
    "            print(f\"You are to pay {bill} \")\n",
    "    else:\n",
    "       print(f\"You are to pay {bill} \") \n",
    "elif size == \"M\":\n",
    "    bill += 20\n",
    "    if add_pepperoni == \"Y\":\n",
    "        bill += 3\n",
    "        if extra_cheese == \"Y\":\n",
    "            bill += 1\n",
    "            #price = int(S + pepperoni + extra_cheese)\n",
    "            print(f\"You are to pay {bill} \")\n",
    "        else:\n",
    "            #price = S + pepperoni - extra_cheese\n",
    "            print(f\"You are to pay {bill} \")\n",
    "    else:\n",
    "       print(f\"You are to pay {bill} \")\n",
    "else:\n",
    "    bill += 25\n",
    "    if add_pepperoni == \"Y\":\n",
    "        bill += 3\n",
    "        if extra_cheese == \"Y\":\n",
    "            bill += 1\n",
    "            #price = int(S + pepperoni + extra_cheese)\n",
    "            print(f\"You are to pay {bill} \")\n",
    "        else:\n",
    "            #price = S + pepperoni - extra_cheese\n",
    "            print(f\"You are to pay {bill} \")\n",
    "    else:\n",
    "       #price = int(S - pepperoni - extra_cheese)\n",
    "        print(f\"You are to pay ${bill} \")\n",
    "    "
   ]
  },
  {
   "cell_type": "code",
   "execution_count": 9,
   "id": "d254feb6-cfda-4d6c-bacf-56c837d19978",
   "metadata": {},
   "outputs": [
    {
     "name": "stdout",
     "output_type": "stream",
     "text": [
      "Welcome to Python Pizza order\n",
      "S for small\n",
      "M for medium\n",
      "L for large\n",
      "Y for Yes\n",
      "N for No\n"
     ]
    },
    {
     "name": "stdin",
     "output_type": "stream",
     "text": [
      "Enter the size of pizza that you want: S, M, L:  L\n",
      "Do you wish to add pepperoni: Y, N:  Y\n",
      "Do you want extra cheese: Y, N:  Y\n"
     ]
    },
    {
     "name": "stdout",
     "output_type": "stream",
     "text": [
      "Your final bill is $29\n"
     ]
    }
   ],
   "source": [
    "#Pizza order\n",
    "print(\"Welcome to Python Pizza order\")\n",
    "print(\"S for small\")\n",
    "print(\"M for medium\")\n",
    "print(\"L for large\")\n",
    "print(\"Y for Yes\")\n",
    "print(\"N for No\")\n",
    "\n",
    "bill = 0\n",
    "size = input(\"Enter the size of pizza that you want: S, M, L: \")\n",
    "add_pepperoni = input(\"Do you wish to add pepperoni: Y, N: \")\n",
    "extra_cheese = input(\"Do you want extra cheese: Y, N: \")\n",
    "\n",
    "if size == \"S\":\n",
    "    bill += 15\n",
    "elif size == \"M\":\n",
    "    bill += 20\n",
    "else:\n",
    "    bill += 25\n",
    "\n",
    "if add_pepperoni == \"Y\":\n",
    "    if size == \"S\":\n",
    "        bill += 2\n",
    "    else:\n",
    "        bill += 3 \n",
    "\n",
    "if extra_cheese == \"Y\":\n",
    "    bill += 1\n",
    "\n",
    "print(f\"Your final bill is ${bill}\")"
   ]
  }
 ],
 "metadata": {
  "kernelspec": {
   "display_name": "Python 3 (ipykernel)",
   "language": "python",
   "name": "python3"
  },
  "language_info": {
   "codemirror_mode": {
    "name": "ipython",
    "version": 3
   },
   "file_extension": ".py",
   "mimetype": "text/x-python",
   "name": "python",
   "nbconvert_exporter": "python",
   "pygments_lexer": "ipython3",
   "version": "3.11.7"
  }
 },
 "nbformat": 4,
 "nbformat_minor": 5
}
