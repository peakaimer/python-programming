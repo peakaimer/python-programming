{
 "cells": [
  {
   "cell_type": "code",
   "execution_count": 13,
   "id": "1d87674d-166d-4172-a1b2-540cdb956b78",
   "metadata": {},
   "outputs": [
    {
     "name": "stdout",
     "output_type": "stream",
     "text": [
      "Welcome to rollercoaster\n"
     ]
    },
    {
     "name": "stdin",
     "output_type": "stream",
     "text": [
      "How old are you?  112\n"
     ]
    },
    {
     "name": "stdout",
     "output_type": "stream",
     "text": [
      "Sorry, you are not eligible to ride a rollercoaster\n"
     ]
    }
   ],
   "source": [
    "print(\"Welcome to rollercoaster\")\n",
    "\n",
    "ride = int(input(\"How old are you? \"))\n",
    "if ride >= 120:\n",
    "    print(\"You can ride a rollercoaster\")\n",
    "else:\n",
    "    print(\"Sorry, you are not eligible to ride a rollercoaster\")"
   ]
  },
  {
   "cell_type": "code",
   "execution_count": 4,
   "id": "82a4006f-f041-4f8f-b1e6-a47373b05615",
   "metadata": {},
   "outputs": [
    {
     "name": "stdout",
     "output_type": "stream",
     "text": [
      "Welcome to rollercoaster\n"
     ]
    },
    {
     "name": "stdin",
     "output_type": "stream",
     "text": [
      "How old are you?  180\n"
     ]
    },
    {
     "name": "stdout",
     "output_type": "stream",
     "text": [
      "You can ride a rollercoaster\n",
      "Adult ticket cost $12\n"
     ]
    },
    {
     "name": "stdin",
     "output_type": "stream",
     "text": [
      "Enter 'Y' for yes or 'N' for No if you want to take a picture  Y\n"
     ]
    },
    {
     "name": "stdout",
     "output_type": "stream",
     "text": [
      "Your final bill is 15\n"
     ]
    }
   ],
   "source": [
    "print(\"Welcome to rollercoaster\")\n",
    "\n",
    "ride = int(input(\"How old are you? \"))\n",
    "bill = 0\n",
    "if ride >= 120:\n",
    "    print(\"You can ride a rollercoaster\")\n",
    "    if ride < 5:\n",
    "        bill = 5\n",
    "        print(\"Children ticket costs $5\")\n",
    "\n",
    "    elif ride <= 12:\n",
    "        bill = 7\n",
    "        print(\"Teenagers ticket cost $7\")\n",
    "\n",
    "    else:\n",
    "        bill = 12\n",
    "        print(\"Adult ticket cost $12\")\n",
    "\n",
    "    ride_photo = input(\"Enter 'Y' for yes or 'N' for No if you want to take a picture \")\n",
    "    if ride_photo == 'Y':\n",
    "        bill += 3\n",
    "        print(f\"Your final bill is {bill}\")\n",
    "else:\n",
    "    print(\"Sorry, you are not eligible to ride a rollercoaster\")"
   ]
  },
  {
   "cell_type": "code",
   "execution_count": null,
   "id": "17d5631e-776e-4224-ae87-6bd178abb648",
   "metadata": {},
   "outputs": [],
   "source": []
  }
 ],
 "metadata": {
  "kernelspec": {
   "display_name": "Python 3 (ipykernel)",
   "language": "python",
   "name": "python3"
  },
  "language_info": {
   "codemirror_mode": {
    "name": "ipython",
    "version": 3
   },
   "file_extension": ".py",
   "mimetype": "text/x-python",
   "name": "python",
   "nbconvert_exporter": "python",
   "pygments_lexer": "ipython3",
   "version": "3.11.7"
  }
 },
 "nbformat": 4,
 "nbformat_minor": 5
}
