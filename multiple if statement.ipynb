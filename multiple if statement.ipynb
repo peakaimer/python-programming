{
 "cells": [
  {
   "cell_type": "code",
   "execution_count": 2,
   "id": "66c7856a-502b-4393-8ea8-b0f609f5b79d",
   "metadata": {},
   "outputs": [
    {
     "name": "stdout",
     "output_type": "stream",
     "text": [
      "Welcome to rollercoaster\n"
     ]
    },
    {
     "name": "stdin",
     "output_type": "stream",
     "text": [
      "How old are you?  18\n"
     ]
    },
    {
     "name": "stdout",
     "output_type": "stream",
     "text": [
      "Sorry, you are not eligible to ride a rollercoaster\n"
     ]
    }
   ],
   "source": [
    "print(\"Welcome to rollercoaster\")\n",
    "\n",
    "ride = int(input(\"How old are you? \"))\n",
    "bill = 0\n",
    "if ride >= 120:\n",
    "    print(\"You can ride a rollercoaster\")\n",
    "    if ride < 5:\n",
    "        print(\"You would pay $5\")\n",
    "\n",
    "    elif ride <= 12:\n",
    "        print(\"You have to pay $7\")\n",
    "\n",
    "    else:\n",
    "        print(\"You have to pay $12\")\n",
    "    \n",
    "else:\n",
    "    print(\"Sorry, you are not eligible to ride a rollercoaster\")"
   ]
  },
  {
   "cell_type": "code",
   "execution_count": null,
   "id": "08c0df63-7035-42fa-9504-8dc432a500a4",
   "metadata": {},
   "outputs": [],
   "source": []
  }
 ],
 "metadata": {
  "kernelspec": {
   "display_name": "Python 3 (ipykernel)",
   "language": "python",
   "name": "python3"
  },
  "language_info": {
   "codemirror_mode": {
    "name": "ipython",
    "version": 3
   },
   "file_extension": ".py",
   "mimetype": "text/x-python",
   "name": "python",
   "nbconvert_exporter": "python",
   "pygments_lexer": "ipython3",
   "version": "3.11.7"
  }
 },
 "nbformat": 4,
 "nbformat_minor": 5
}
